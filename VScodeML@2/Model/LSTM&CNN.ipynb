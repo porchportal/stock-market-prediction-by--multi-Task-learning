{
 "cells": [
  {
   "cell_type": "markdown",
   "metadata": {},
   "source": [
    "Reference:\n",
    "http://cs230.stanford.edu/projects_winter_2021/reports/70667451.pdf"
   ]
  },
  {
   "cell_type": "code",
   "execution_count": 9,
   "metadata": {},
   "outputs": [
    {
     "name": "stderr",
     "output_type": "stream",
     "text": [
      "/Library/Frameworks/Python.framework/Versions/3.12/lib/python3.12/site-packages/IPython/extensions/storemagic.py:148: UserWarning: This is now an optional IPython functionality, using autorestore/dataset requires you to install the `pickleshare` library.\n",
      "  obj = db[\"autorestore/\" + arg]\n"
     ]
    },
    {
     "ename": "AttributeError",
     "evalue": "'NoneType' object has no attribute 'head'",
     "output_type": "error",
     "traceback": [
      "\u001b[0;31m---------------------------------------------------------------------------\u001b[0m",
      "\u001b[0;31mAttributeError\u001b[0m                            Traceback (most recent call last)",
      "Cell \u001b[0;32mIn[9], line 8\u001b[0m\n\u001b[1;32m      6\u001b[0m \u001b[38;5;28;01mfrom\u001b[39;00m \u001b[38;5;21;01mtensorflow\u001b[39;00m\u001b[38;5;21;01m.\u001b[39;00m\u001b[38;5;21;01mkeras\u001b[39;00m\u001b[38;5;21;01m.\u001b[39;00m\u001b[38;5;21;01mlayers\u001b[39;00m \u001b[38;5;28;01mimport\u001b[39;00m Dense, LSTM, Conv1D, MaxPooling1D, Flatten\n\u001b[1;32m      7\u001b[0m get_ipython()\u001b[38;5;241m.\u001b[39mrun_line_magic(\u001b[38;5;124m'\u001b[39m\u001b[38;5;124mstore\u001b[39m\u001b[38;5;124m'\u001b[39m, \u001b[38;5;124m'\u001b[39m\u001b[38;5;124m-r dataset\u001b[39m\u001b[38;5;124m'\u001b[39m)\n\u001b[0;32m----> 8\u001b[0m \u001b[43mdataset\u001b[49m\u001b[38;5;241;43m.\u001b[39;49m\u001b[43mhead\u001b[49m()\n",
      "\u001b[0;31mAttributeError\u001b[0m: 'NoneType' object has no attribute 'head'"
     ]
    }
   ],
   "source": [
    "import numpy as np\n",
    "import pandas as pd\n",
    "import matplotlib.pyplot as plt\n",
    "from sklearn.preprocessing import MinMaxScaler\n",
    "from tensorflow.keras.models import Sequential\n",
    "from tensorflow.keras.layers import Dense, LSTM, Conv1D, MaxPooling1D, Flatten\n",
    "%store -r dataset\n",
    "dataset.head()"
   ]
  },
  {
   "cell_type": "markdown",
   "metadata": {},
   "source": [
    "Data from file Data&normalize"
   ]
  },
  {
   "cell_type": "code",
   "execution_count": null,
   "metadata": {},
   "outputs": [],
   "source": [
    "scaler = MinMaxScaler(feature_range=(0, 1))\n",
    "scaled_data = scaler.fit_transform(dataset)\n",
    "\n",
    "# Create sequences\n",
    "\n",
    "\n",
    "def create_sequences(data, seq_length):\n",
    "    sequences = []\n",
    "    labels = []\n",
    "    for i in range(len(data) - seq_length):\n",
    "        sequences.append(data[i:i + seq_length])\n",
    "        labels.append(data[i + seq_length])\n",
    "    return np.array(sequences), np.array(labels)\n",
    "\n",
    "\n",
    "seq_length = 30\n",
    "X, y = create_sequences(scaled_data, seq_length)\n",
    "\n",
    "# Reshape X for CNN input\n",
    "X_cnn = X.reshape(X.shape[0], X.shape[1], 1, 1)\n",
    "X_lstm = X.reshape(X.shape[0], X.shape[1], X.shape[2])\n",
    "\n",
    "# Split into training and testing sets\n",
    "X_cnn_train, X_cnn_test, X_lstm_train, X_lstm_test, y_train, y_test = train_test_split(\n",
    "    X_cnn, X_lstm, y, test_size=0.2, random_state=42)"
   ]
  },
  {
   "cell_type": "code",
   "execution_count": null,
   "metadata": {},
   "outputs": [],
   "source": [
    "# Define input shape (modify based on your actual data)\n",
    "input_shape = (32, 30, 260)\n",
    "\n",
    "# CNN Model 1\n",
    "input_cnn = Input(shape=input_shape)\n",
    "\n",
    "x = Conv1D(filters=32, kernel_size=11, activation='relu')(input_cnn)\n",
    "x = BatchNormalization()(x)\n",
    "x = MaxPooling1D(pool_size=2)(x)\n",
    "x = Dropout(0.5)(x)\n",
    "\n",
    "x = Conv1D(filters=64, kernel_size=9, activation='relu')(x)\n",
    "x = BatchNormalization()(x)\n",
    "x = MaxPooling1D(pool_size=2)(x)\n",
    "x = Dropout(0.5)(x)\n",
    "\n",
    "x = Conv1D(filters=128, kernel_size=5, activation='relu')(x)\n",
    "x = BatchNormalization()(x)\n",
    "x = MaxPooling1D(pool_size=2)(x)\n",
    "x = Dropout(0.5)(x)\n",
    "\n",
    "x = Flatten()(x)\n",
    "\n",
    "# Fully Connected Layers\n",
    "x = Dense(32, activation='relu')(x)\n",
    "x = Dense(16, activation='relu')(x)\n",
    "\n",
    "# LSTM Model\n",
    "input_lstm = Input(shape=(input_shape[0], input_shape[1] * input_shape[2]))\n",
    "\n",
    "y = LSTM(units=64, return_sequences=True)(input_lstm)\n",
    "y = Dropout(0.25)(y)\n",
    "y = LSTM(units=32, return_sequences=True)(y)\n",
    "y = Dropout(0.25)(y)\n",
    "y = LSTM(units=32)(y)\n",
    "y = Dropout(0.25)(y)\n",
    "\n",
    "# Combine CNN and LSTM\n",
    "combined = tf.keras.layers.concatenate([x, y])\n",
    "\n",
    "# Output Layer\n",
    "output = Dense(1, activation='sigmoid')(combined)\n",
    "\n",
    "# Model Definition\n",
    "model = Model(inputs=[input_cnn, input_lstm], outputs=output)\n",
    "\n",
    "# Compile the model\n",
    "model.compile(optimizer=Adam(learning_rate=0.001),\n",
    "              loss='binary_crossentropy', metrics=['accuracy'])\n",
    "\n",
    "# Summary of the model\n",
    "model.summary()"
   ]
  }
 ],
 "metadata": {
  "kernelspec": {
   "display_name": "Python 3",
   "language": "python",
   "name": "python3"
  },
  "language_info": {
   "codemirror_mode": {
    "name": "ipython",
    "version": 3
   },
   "file_extension": ".py",
   "mimetype": "text/x-python",
   "name": "python",
   "nbconvert_exporter": "python",
   "pygments_lexer": "ipython3",
   "version": "3.12.3"
  }
 },
 "nbformat": 4,
 "nbformat_minor": 2
}
